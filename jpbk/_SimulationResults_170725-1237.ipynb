{
 "cells": [
  {
   "cell_type": "markdown",
   "metadata": {},
   "source": [
    "## Simulation results"
   ]
  },
  {
   "cell_type": "markdown",
   "metadata": {},
   "source": [
    "#### model1 - List the validation and the test accuracies with various learning rates\n",
    "| label 0  | '1E-03' | '2E-03' | '9E-04' | '1E-04' | '8E-04' | '9.5E-04' | '8.5E-04' | \n",
    "|:---------------------------------------------------------------:| \n",
    "| test accuracy 0 | 90.3 | 89.5 | 92.8 | 87.0 | 92.6 | 91.7 | 92.9 | \n",
    "| validation accuracy 0 | 91.7 | 89.9 | 93.9 | 87.4 | 93.4 | 92.9 | 94.4 | \n",
    "| cost 0 | 0.456 | 0.392 | 0.293 | 0.487 | 0.523 | 0.371 | 0.326 | \n",
    "\n",
    "#### model1 - List the validation and the test accuracies with various dropout rates\n",
    "| label 1  | '0.5' | '0.75' | '0.85' | '0.6' | '0.8' | '0.67' | '0.7' | \n",
    "|:---------------------------------------------------------------:| \n",
    "| test accuracy 1 | 92.9 | 93.4 | 92.5 | 93.2 | 92.1 | 93.5 | 93.3 | \n",
    "| validation accuracy 1 | 94.4 | 94.3 | 95.0 | 94.9 | 93.3 | 94.7 | 94.1 | \n",
    "| cost 1 | 0.326 | 0.350 | 0.978 | 0.457 | 0.450 | 0.274 | 0.701 | \n",
    "\n",
    "\n",
    "#### model1 - List the validation and the test accuracies with various proprocessed data\n",
    "| label 2  | '0RGB' | '0GRAY' | '0SHP' | '0HST' | '0CLAHE' | \n",
    "|:---------------------------------------------------------------:| \n",
    "| test accuracy 2 | 94.7 | 94.5 | 92.0 | 91.5 | 91.8 | \n",
    "| validation accuracy 2 | 94.9 | 96.3 | 93.1 | 93.2 | 92.0 | \n",
    "| cost 2   | 0.492 | 0.279 | 0.493 | 0.473 | 0.511 | \n",
    "\n",
    "#### model1 - List the validation and the test accuracies with various amount of jittered data (grayscale & centered normalized)\n",
    "| label 3  | '500' | '1000' | '1500' | '2000' | '2500' | '3000' | \n",
    "|:---------------------------------------------------------------:| \n",
    "| test accuracy 3 |  91.8  |  94.6  |  95.2  |  95.1  |  95.7  |  94.2  | \n",
    "| validation accuracy 3 |  92.0  |  95.8  |  97.1  |  97.0  |  97.1  |  97.6  | \n",
    "| cost 3   |  0.511  |  0.312  |  0.164  |  0.163  |  0.161  |  0.103  | \n",
    " \n",
    "\n",
    "#### model1 - List the validation and the test accuracies with various amount of jittered data (rgb & centered normalized)\n",
    "| label 4  | '500' | '1000' | '1500' | '2000' | '2500' | '3000' | \n",
    "|:---------------------------------------------------------------:| \n",
    "| test accuracy 4 | 95.6 | 94.3 | 94.4 | 94.8 | 95.4 | 95.8 | \n",
    "| validation accuracy 4 | 96.2 | 96.3 | 95.5 | 96.6 | 96.1 | 97.7 | \n",
    "| cost 4   | 0.333 | 0.209 | 0.344 | 0.243 | 0.339 | 0.141 | \n",
    "\n",
    "\n",
    "#### model1 - List the validation and the test accuracies with leaky RELU and various amount of jittered data (centered normalized)\n",
    "| label 5  | '3e3xRGB' | '3e3xGRAY' |   \n",
    "|:-------------------------:|   \n",
    "| test accuracy 5 | 96.1 | 95.3 |   \n",
    "| validation accuracy 5 | 95.7 | 97.4 |   \n",
    "| cost 5   | 0.285 | 0.143 |   "
   ]
  },
  {
   "cell_type": "code",
   "execution_count": null,
   "metadata": {
    "collapsed": true
   },
   "outputs": [],
   "source": []
  }
 ],
 "metadata": {
  "anaconda-cloud": {},
  "kernelspec": {
   "display_name": "Python [default]",
   "language": "python",
   "name": "python3"
  },
  "language_info": {
   "codemirror_mode": {
    "name": "ipython",
    "version": 3
   },
   "file_extension": ".py",
   "mimetype": "text/x-python",
   "name": "python",
   "nbconvert_exporter": "python",
   "pygments_lexer": "ipython3",
   "version": "3.5.2"
  }
 },
 "nbformat": 4,
 "nbformat_minor": 1
}
